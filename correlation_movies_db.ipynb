{
 "cells": [
  {
   "cell_type": "code",
   "execution_count": 3,
   "id": "5bd33a82",
   "metadata": {},
   "outputs": [],
   "source": [
    "# First let's import the packages we will use in this project\n",
    "# You can do this all now or as you need them\n",
    "import pandas as pd\n",
    "import numpy as np\n",
    "import seaborn as sns\n",
    "\n",
    "import matplotlib.pyplot as plt\n",
    "import matplotlib.mlab as mlab\n",
    "import matplotlib\n",
    "plt.style.use('ggplot')\n",
    "from matplotlib.pyplot import figure\n",
    "\n",
    "%matplotlib inline\n",
    "matplotlib.rcParams['figure.figsize'] = (12,8)  # Adjusts the configuration of the plots we will create\n",
    "\n",
    "pd.options.mode.chained_assignment = None\n",
    "\n",
    "\n",
    "# Now we need to read in the data\n",
    "df = pd.read_csv(r'C:\\Drive\\PROJECTS\\PERSONAL\\CorrelationInMovies-Python\\data\\movies.csv')\n"
   ]
  },
  {
   "cell_type": "code",
   "execution_count": 5,
   "id": "829112e5",
   "metadata": {},
   "outputs": [
    {
     "output_type": "execute_result",
     "data": {
      "text/plain": [
       "       budget                                 company country        director  \\\n",
       "0   8000000.0           Columbia Pictures Corporation     USA      Rob Reiner   \n",
       "1   6000000.0                      Paramount Pictures     USA     John Hughes   \n",
       "2  15000000.0                      Paramount Pictures     USA      Tony Scott   \n",
       "3  18500000.0  Twentieth Century Fox Film Corporation     USA   James Cameron   \n",
       "4   9000000.0                    Walt Disney Pictures     USA  Randal Kleiser   \n",
       "\n",
       "       genre        gross                      name rating    released  \\\n",
       "0  Adventure   52287414.0               Stand by Me      R  1986-08-22   \n",
       "1     Comedy   70136369.0  Ferris Bueller's Day Off  PG-13  1986-06-11   \n",
       "2     Action  179800601.0                   Top Gun     PG  1986-05-16   \n",
       "3     Action   85160248.0                    Aliens      R  1986-07-18   \n",
       "4  Adventure   18564613.0   Flight of the Navigator     PG  1986-08-01   \n",
       "\n",
       "   runtime  score               star   votes         writer  year  \n",
       "0       89    8.1        Wil Wheaton  299174   Stephen King  1986  \n",
       "1      103    7.8  Matthew Broderick  264740    John Hughes  1986  \n",
       "2      110    6.9         Tom Cruise  236909       Jim Cash  1986  \n",
       "3      137    8.4   Sigourney Weaver  540152  James Cameron  1986  \n",
       "4       90    6.9        Joey Cramer   36636  Mark H. Baker  1986  "
      ],
      "text/html": "<div>\n<style scoped>\n    .dataframe tbody tr th:only-of-type {\n        vertical-align: middle;\n    }\n\n    .dataframe tbody tr th {\n        vertical-align: top;\n    }\n\n    .dataframe thead th {\n        text-align: right;\n    }\n</style>\n<table border=\"1\" class=\"dataframe\">\n  <thead>\n    <tr style=\"text-align: right;\">\n      <th></th>\n      <th>budget</th>\n      <th>company</th>\n      <th>country</th>\n      <th>director</th>\n      <th>genre</th>\n      <th>gross</th>\n      <th>name</th>\n      <th>rating</th>\n      <th>released</th>\n      <th>runtime</th>\n      <th>score</th>\n      <th>star</th>\n      <th>votes</th>\n      <th>writer</th>\n      <th>year</th>\n    </tr>\n  </thead>\n  <tbody>\n    <tr>\n      <th>0</th>\n      <td>8000000.0</td>\n      <td>Columbia Pictures Corporation</td>\n      <td>USA</td>\n      <td>Rob Reiner</td>\n      <td>Adventure</td>\n      <td>52287414.0</td>\n      <td>Stand by Me</td>\n      <td>R</td>\n      <td>1986-08-22</td>\n      <td>89</td>\n      <td>8.1</td>\n      <td>Wil Wheaton</td>\n      <td>299174</td>\n      <td>Stephen King</td>\n      <td>1986</td>\n    </tr>\n    <tr>\n      <th>1</th>\n      <td>6000000.0</td>\n      <td>Paramount Pictures</td>\n      <td>USA</td>\n      <td>John Hughes</td>\n      <td>Comedy</td>\n      <td>70136369.0</td>\n      <td>Ferris Bueller's Day Off</td>\n      <td>PG-13</td>\n      <td>1986-06-11</td>\n      <td>103</td>\n      <td>7.8</td>\n      <td>Matthew Broderick</td>\n      <td>264740</td>\n      <td>John Hughes</td>\n      <td>1986</td>\n    </tr>\n    <tr>\n      <th>2</th>\n      <td>15000000.0</td>\n      <td>Paramount Pictures</td>\n      <td>USA</td>\n      <td>Tony Scott</td>\n      <td>Action</td>\n      <td>179800601.0</td>\n      <td>Top Gun</td>\n      <td>PG</td>\n      <td>1986-05-16</td>\n      <td>110</td>\n      <td>6.9</td>\n      <td>Tom Cruise</td>\n      <td>236909</td>\n      <td>Jim Cash</td>\n      <td>1986</td>\n    </tr>\n    <tr>\n      <th>3</th>\n      <td>18500000.0</td>\n      <td>Twentieth Century Fox Film Corporation</td>\n      <td>USA</td>\n      <td>James Cameron</td>\n      <td>Action</td>\n      <td>85160248.0</td>\n      <td>Aliens</td>\n      <td>R</td>\n      <td>1986-07-18</td>\n      <td>137</td>\n      <td>8.4</td>\n      <td>Sigourney Weaver</td>\n      <td>540152</td>\n      <td>James Cameron</td>\n      <td>1986</td>\n    </tr>\n    <tr>\n      <th>4</th>\n      <td>9000000.0</td>\n      <td>Walt Disney Pictures</td>\n      <td>USA</td>\n      <td>Randal Kleiser</td>\n      <td>Adventure</td>\n      <td>18564613.0</td>\n      <td>Flight of the Navigator</td>\n      <td>PG</td>\n      <td>1986-08-01</td>\n      <td>90</td>\n      <td>6.9</td>\n      <td>Joey Cramer</td>\n      <td>36636</td>\n      <td>Mark H. Baker</td>\n      <td>1986</td>\n    </tr>\n  </tbody>\n</table>\n</div>"
     },
     "metadata": {},
     "execution_count": 5
    }
   ],
   "source": [
    "# Now let's take a look at the data\n",
    "df.head() # shows top 5 records\n",
    "# df         # Shows bigger sample of records"
   ]
  },
  {
   "source": [
    "# Check for missing data\n",
    "\n",
    "# for col in df.column:\n",
    "#     percent_missing = np.mean(df[col].isNull())\n",
    "#     print('{} - {}%'.format(col, percent_missing))\n"
   ],
   "cell_type": "code",
   "metadata": {},
   "execution_count": null,
   "outputs": []
  }
 ],
 "metadata": {
  "kernelspec": {
   "display_name": "Python 3",
   "language": "python",
   "name": "python3"
  },
  "language_info": {
   "codemirror_mode": {
    "name": "ipython",
    "version": 3
   },
   "file_extension": ".py",
   "mimetype": "text/x-python",
   "name": "python",
   "nbconvert_exporter": "python",
   "pygments_lexer": "ipython3",
   "version": "3.8.8"
  }
 },
 "nbformat": 4,
 "nbformat_minor": 5
}