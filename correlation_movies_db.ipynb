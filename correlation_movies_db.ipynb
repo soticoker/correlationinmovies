{
 "cells": [
  {
   "cell_type": "code",
   "execution_count": 29,
   "id": "5bd33a82",
   "metadata": {},
   "outputs": [],
   "source": [
    "# First let's import the packages we will use in this project\n",
    "# You can do this all now or as you need them\n",
    "import pandas as pd\n",
    "import numpy as np\n",
    "import seaborn as sns\n",
    "\n",
    "import matplotlib.pyplot as plt\n",
    "import matplotlib.mlab as mlab\n",
    "import matplotlib\n",
    "plt.style.use('ggplot')\n",
    "from matplotlib.pyplot import figure\n",
    "\n",
    "%matplotlib inline\n",
    "matplotlib.rcParams['figure.figsize'] = (12,8)  # Adjusts the configuration of the plots we will create\n",
    "\n",
    "pd.options.mode.chained_assignment = None\n",
    "\n",
    "\n",
    "# Now we need to read in the data\n",
    "df = pd.read_csv(r'C:\\Drive\\PROJECTS\\PERSONAL\\CorrelationInMovies-Python\\data\\movies.csv')\n"
   ]
  },
  {
   "cell_type": "code",
   "execution_count": 30,
   "id": "829112e5",
   "metadata": {},
   "outputs": [
    {
     "output_type": "execute_result",
     "data": {
      "text/plain": [
       "          budget                                 company country  \\\n",
       "0      8000000.0           Columbia Pictures Corporation     USA   \n",
       "1      6000000.0                      Paramount Pictures     USA   \n",
       "2     15000000.0                      Paramount Pictures     USA   \n",
       "3     18500000.0  Twentieth Century Fox Film Corporation     USA   \n",
       "4      9000000.0                    Walt Disney Pictures     USA   \n",
       "...          ...                                     ...     ...   \n",
       "6815         0.0                Fox Searchlight Pictures      UK   \n",
       "6816         0.0                Siempre Viva Productions     USA   \n",
       "6817   3500000.0                  Warner Bros. Animation     USA   \n",
       "6818         0.0                     Borderline Presents     USA   \n",
       "6819         0.0               Les Productions du Tr�sor  France   \n",
       "\n",
       "             director      genre        gross                            name  \\\n",
       "0          Rob Reiner  Adventure   52287414.0                     Stand by Me   \n",
       "1         John Hughes     Comedy   70136369.0        Ferris Bueller's Day Off   \n",
       "2          Tony Scott     Action  179800601.0                         Top Gun   \n",
       "3       James Cameron     Action   85160248.0                          Aliens   \n",
       "4      Randal Kleiser  Adventure   18564613.0         Flight of the Navigator   \n",
       "...               ...        ...          ...                             ...   \n",
       "6815  Mandie Fletcher     Comedy    4750497.0  Absolutely Fabulous: The Movie   \n",
       "6816   Paul Duddridge      Drama      28368.0           Mothers and Daughters   \n",
       "6817          Sam Liu  Animation    3775000.0        Batman: The Killing Joke   \n",
       "6818    Nicolas Pesce      Drama      25981.0           The Eyes of My Mother   \n",
       "6819    Nicole Garcia      Drama      37757.0       From the Land of the Moon   \n",
       "\n",
       "     rating    released  runtime  score               star   votes  \\\n",
       "0         R  1986-08-22       89    8.1        Wil Wheaton  299174   \n",
       "1     PG-13  1986-06-11      103    7.8  Matthew Broderick  264740   \n",
       "2        PG  1986-05-16      110    6.9         Tom Cruise  236909   \n",
       "3         R  1986-07-18      137    8.4   Sigourney Weaver  540152   \n",
       "4        PG  1986-08-01       90    6.9        Joey Cramer   36636   \n",
       "...     ...         ...      ...    ...                ...     ...   \n",
       "6815      R  2016-07-22       91    5.4  Jennifer Saunders    9161   \n",
       "6816  PG-13  2016-05-06       90    4.9        Selma Blair    1959   \n",
       "6817      R  2016-07-25       76    6.5       Kevin Conroy   36333   \n",
       "6818      R  2016-12-02       76    6.2     Kika Magalh�es    6947   \n",
       "6819      R  2017-07-28      120    6.7   Marion Cotillard    2411   \n",
       "\n",
       "                 writer  year  \n",
       "0          Stephen King  1986  \n",
       "1           John Hughes  1986  \n",
       "2              Jim Cash  1986  \n",
       "3         James Cameron  1986  \n",
       "4         Mark H. Baker  1986  \n",
       "...                 ...   ...  \n",
       "6815  Jennifer Saunders  2016  \n",
       "6816      Paige Cameron  2016  \n",
       "6817    Brian Azzarello  2016  \n",
       "6818      Nicolas Pesce  2016  \n",
       "6819        Milena Agus  2016  \n",
       "\n",
       "[6820 rows x 15 columns]"
      ],
      "text/html": "<div>\n<style scoped>\n    .dataframe tbody tr th:only-of-type {\n        vertical-align: middle;\n    }\n\n    .dataframe tbody tr th {\n        vertical-align: top;\n    }\n\n    .dataframe thead th {\n        text-align: right;\n    }\n</style>\n<table border=\"1\" class=\"dataframe\">\n  <thead>\n    <tr style=\"text-align: right;\">\n      <th></th>\n      <th>budget</th>\n      <th>company</th>\n      <th>country</th>\n      <th>director</th>\n      <th>genre</th>\n      <th>gross</th>\n      <th>name</th>\n      <th>rating</th>\n      <th>released</th>\n      <th>runtime</th>\n      <th>score</th>\n      <th>star</th>\n      <th>votes</th>\n      <th>writer</th>\n      <th>year</th>\n    </tr>\n  </thead>\n  <tbody>\n    <tr>\n      <th>0</th>\n      <td>8000000.0</td>\n      <td>Columbia Pictures Corporation</td>\n      <td>USA</td>\n      <td>Rob Reiner</td>\n      <td>Adventure</td>\n      <td>52287414.0</td>\n      <td>Stand by Me</td>\n      <td>R</td>\n      <td>1986-08-22</td>\n      <td>89</td>\n      <td>8.1</td>\n      <td>Wil Wheaton</td>\n      <td>299174</td>\n      <td>Stephen King</td>\n      <td>1986</td>\n    </tr>\n    <tr>\n      <th>1</th>\n      <td>6000000.0</td>\n      <td>Paramount Pictures</td>\n      <td>USA</td>\n      <td>John Hughes</td>\n      <td>Comedy</td>\n      <td>70136369.0</td>\n      <td>Ferris Bueller's Day Off</td>\n      <td>PG-13</td>\n      <td>1986-06-11</td>\n      <td>103</td>\n      <td>7.8</td>\n      <td>Matthew Broderick</td>\n      <td>264740</td>\n      <td>John Hughes</td>\n      <td>1986</td>\n    </tr>\n    <tr>\n      <th>2</th>\n      <td>15000000.0</td>\n      <td>Paramount Pictures</td>\n      <td>USA</td>\n      <td>Tony Scott</td>\n      <td>Action</td>\n      <td>179800601.0</td>\n      <td>Top Gun</td>\n      <td>PG</td>\n      <td>1986-05-16</td>\n      <td>110</td>\n      <td>6.9</td>\n      <td>Tom Cruise</td>\n      <td>236909</td>\n      <td>Jim Cash</td>\n      <td>1986</td>\n    </tr>\n    <tr>\n      <th>3</th>\n      <td>18500000.0</td>\n      <td>Twentieth Century Fox Film Corporation</td>\n      <td>USA</td>\n      <td>James Cameron</td>\n      <td>Action</td>\n      <td>85160248.0</td>\n      <td>Aliens</td>\n      <td>R</td>\n      <td>1986-07-18</td>\n      <td>137</td>\n      <td>8.4</td>\n      <td>Sigourney Weaver</td>\n      <td>540152</td>\n      <td>James Cameron</td>\n      <td>1986</td>\n    </tr>\n    <tr>\n      <th>4</th>\n      <td>9000000.0</td>\n      <td>Walt Disney Pictures</td>\n      <td>USA</td>\n      <td>Randal Kleiser</td>\n      <td>Adventure</td>\n      <td>18564613.0</td>\n      <td>Flight of the Navigator</td>\n      <td>PG</td>\n      <td>1986-08-01</td>\n      <td>90</td>\n      <td>6.9</td>\n      <td>Joey Cramer</td>\n      <td>36636</td>\n      <td>Mark H. Baker</td>\n      <td>1986</td>\n    </tr>\n    <tr>\n      <th>...</th>\n      <td>...</td>\n      <td>...</td>\n      <td>...</td>\n      <td>...</td>\n      <td>...</td>\n      <td>...</td>\n      <td>...</td>\n      <td>...</td>\n      <td>...</td>\n      <td>...</td>\n      <td>...</td>\n      <td>...</td>\n      <td>...</td>\n      <td>...</td>\n      <td>...</td>\n    </tr>\n    <tr>\n      <th>6815</th>\n      <td>0.0</td>\n      <td>Fox Searchlight Pictures</td>\n      <td>UK</td>\n      <td>Mandie Fletcher</td>\n      <td>Comedy</td>\n      <td>4750497.0</td>\n      <td>Absolutely Fabulous: The Movie</td>\n      <td>R</td>\n      <td>2016-07-22</td>\n      <td>91</td>\n      <td>5.4</td>\n      <td>Jennifer Saunders</td>\n      <td>9161</td>\n      <td>Jennifer Saunders</td>\n      <td>2016</td>\n    </tr>\n    <tr>\n      <th>6816</th>\n      <td>0.0</td>\n      <td>Siempre Viva Productions</td>\n      <td>USA</td>\n      <td>Paul Duddridge</td>\n      <td>Drama</td>\n      <td>28368.0</td>\n      <td>Mothers and Daughters</td>\n      <td>PG-13</td>\n      <td>2016-05-06</td>\n      <td>90</td>\n      <td>4.9</td>\n      <td>Selma Blair</td>\n      <td>1959</td>\n      <td>Paige Cameron</td>\n      <td>2016</td>\n    </tr>\n    <tr>\n      <th>6817</th>\n      <td>3500000.0</td>\n      <td>Warner Bros. Animation</td>\n      <td>USA</td>\n      <td>Sam Liu</td>\n      <td>Animation</td>\n      <td>3775000.0</td>\n      <td>Batman: The Killing Joke</td>\n      <td>R</td>\n      <td>2016-07-25</td>\n      <td>76</td>\n      <td>6.5</td>\n      <td>Kevin Conroy</td>\n      <td>36333</td>\n      <td>Brian Azzarello</td>\n      <td>2016</td>\n    </tr>\n    <tr>\n      <th>6818</th>\n      <td>0.0</td>\n      <td>Borderline Presents</td>\n      <td>USA</td>\n      <td>Nicolas Pesce</td>\n      <td>Drama</td>\n      <td>25981.0</td>\n      <td>The Eyes of My Mother</td>\n      <td>R</td>\n      <td>2016-12-02</td>\n      <td>76</td>\n      <td>6.2</td>\n      <td>Kika Magalh�es</td>\n      <td>6947</td>\n      <td>Nicolas Pesce</td>\n      <td>2016</td>\n    </tr>\n    <tr>\n      <th>6819</th>\n      <td>0.0</td>\n      <td>Les Productions du Tr�sor</td>\n      <td>France</td>\n      <td>Nicole Garcia</td>\n      <td>Drama</td>\n      <td>37757.0</td>\n      <td>From the Land of the Moon</td>\n      <td>R</td>\n      <td>2017-07-28</td>\n      <td>120</td>\n      <td>6.7</td>\n      <td>Marion Cotillard</td>\n      <td>2411</td>\n      <td>Milena Agus</td>\n      <td>2016</td>\n    </tr>\n  </tbody>\n</table>\n<p>6820 rows × 15 columns</p>\n</div>"
     },
     "metadata": {},
     "execution_count": 30
    }
   ],
   "source": [
    "# Now let's take a look at the data\n",
    "#df.head() # shows top 5 records\n",
    "df         # Shows bigger sample of records"
   ]
  },
  {
   "source": [
    "# Check for missing data\n",
    "\n",
    "for col in df.columns:\n",
    "    percent_missing = np.mean(df[col].isnull())\n",
    "    print('{} - {}%'.format(col, round(percent_missing*100)))"
   ],
   "cell_type": "code",
   "metadata": {},
   "execution_count": 31,
   "outputs": [
    {
     "output_type": "stream",
     "name": "stdout",
     "text": [
      "budget - 0%\ncompany - 0%\ncountry - 0%\ndirector - 0%\ngenre - 0%\ngross - 0%\nname - 0%\nrating - 0%\nreleased - 0%\nruntime - 0%\nscore - 0%\nstar - 0%\nvotes - 0%\nwriter - 0%\nyear - 0%\n"
     ]
    }
   ]
  },
  {
   "cell_type": "code",
   "execution_count": 32,
   "metadata": {},
   "outputs": [
    {
     "output_type": "execute_result",
     "data": {
      "text/plain": [
       "budget      float64\n",
       "company      object\n",
       "country      object\n",
       "director     object\n",
       "genre        object\n",
       "gross       float64\n",
       "name         object\n",
       "rating       object\n",
       "released     object\n",
       "runtime       int64\n",
       "score       float64\n",
       "star         object\n",
       "votes         int64\n",
       "writer       object\n",
       "year          int64\n",
       "dtype: object"
      ]
     },
     "metadata": {},
     "execution_count": 32
    }
   ],
   "source": [
    "# show data types for all columns\n",
    "df.dtypes"
   ]
  },
  {
   "cell_type": "code",
   "execution_count": 33,
   "metadata": {},
   "outputs": [],
   "source": [
    " # Change data type from float to integer\n",
    "df['budget'] = df['budget'].astype('int64')\n",
    "\n",
    "df['gross'] = df['gross'].astype('int64')"
   ]
  },
  {
   "cell_type": "code",
   "execution_count": 34,
   "metadata": {},
   "outputs": [
    {
     "output_type": "execute_result",
     "data": {
      "text/plain": [
       "        budget                                 company country  \\\n",
       "0      8000000           Columbia Pictures Corporation     USA   \n",
       "1      6000000                      Paramount Pictures     USA   \n",
       "2     15000000                      Paramount Pictures     USA   \n",
       "3     18500000  Twentieth Century Fox Film Corporation     USA   \n",
       "4      9000000                    Walt Disney Pictures     USA   \n",
       "...        ...                                     ...     ...   \n",
       "6815         0                Fox Searchlight Pictures      UK   \n",
       "6816         0                Siempre Viva Productions     USA   \n",
       "6817   3500000                  Warner Bros. Animation     USA   \n",
       "6818         0                     Borderline Presents     USA   \n",
       "6819         0               Les Productions du Tr�sor  France   \n",
       "\n",
       "             director      genre      gross                            name  \\\n",
       "0          Rob Reiner  Adventure   52287414                     Stand by Me   \n",
       "1         John Hughes     Comedy   70136369        Ferris Bueller's Day Off   \n",
       "2          Tony Scott     Action  179800601                         Top Gun   \n",
       "3       James Cameron     Action   85160248                          Aliens   \n",
       "4      Randal Kleiser  Adventure   18564613         Flight of the Navigator   \n",
       "...               ...        ...        ...                             ...   \n",
       "6815  Mandie Fletcher     Comedy    4750497  Absolutely Fabulous: The Movie   \n",
       "6816   Paul Duddridge      Drama      28368           Mothers and Daughters   \n",
       "6817          Sam Liu  Animation    3775000        Batman: The Killing Joke   \n",
       "6818    Nicolas Pesce      Drama      25981           The Eyes of My Mother   \n",
       "6819    Nicole Garcia      Drama      37757       From the Land of the Moon   \n",
       "\n",
       "     rating    released  runtime  score               star   votes  \\\n",
       "0         R  1986-08-22       89    8.1        Wil Wheaton  299174   \n",
       "1     PG-13  1986-06-11      103    7.8  Matthew Broderick  264740   \n",
       "2        PG  1986-05-16      110    6.9         Tom Cruise  236909   \n",
       "3         R  1986-07-18      137    8.4   Sigourney Weaver  540152   \n",
       "4        PG  1986-08-01       90    6.9        Joey Cramer   36636   \n",
       "...     ...         ...      ...    ...                ...     ...   \n",
       "6815      R  2016-07-22       91    5.4  Jennifer Saunders    9161   \n",
       "6816  PG-13  2016-05-06       90    4.9        Selma Blair    1959   \n",
       "6817      R  2016-07-25       76    6.5       Kevin Conroy   36333   \n",
       "6818      R  2016-12-02       76    6.2     Kika Magalh�es    6947   \n",
       "6819      R  2017-07-28      120    6.7   Marion Cotillard    2411   \n",
       "\n",
       "                 writer  year yearcorrect  \n",
       "0          Stephen King  1986        1986  \n",
       "1           John Hughes  1986        1986  \n",
       "2              Jim Cash  1986        1986  \n",
       "3         James Cameron  1986        1986  \n",
       "4         Mark H. Baker  1986        1986  \n",
       "...                 ...   ...         ...  \n",
       "6815  Jennifer Saunders  2016        2016  \n",
       "6816      Paige Cameron  2016        2016  \n",
       "6817    Brian Azzarello  2016        2016  \n",
       "6818      Nicolas Pesce  2016        2016  \n",
       "6819        Milena Agus  2016        2017  \n",
       "\n",
       "[6820 rows x 16 columns]"
      ],
      "text/html": "<div>\n<style scoped>\n    .dataframe tbody tr th:only-of-type {\n        vertical-align: middle;\n    }\n\n    .dataframe tbody tr th {\n        vertical-align: top;\n    }\n\n    .dataframe thead th {\n        text-align: right;\n    }\n</style>\n<table border=\"1\" class=\"dataframe\">\n  <thead>\n    <tr style=\"text-align: right;\">\n      <th></th>\n      <th>budget</th>\n      <th>company</th>\n      <th>country</th>\n      <th>director</th>\n      <th>genre</th>\n      <th>gross</th>\n      <th>name</th>\n      <th>rating</th>\n      <th>released</th>\n      <th>runtime</th>\n      <th>score</th>\n      <th>star</th>\n      <th>votes</th>\n      <th>writer</th>\n      <th>year</th>\n      <th>yearcorrect</th>\n    </tr>\n  </thead>\n  <tbody>\n    <tr>\n      <th>0</th>\n      <td>8000000</td>\n      <td>Columbia Pictures Corporation</td>\n      <td>USA</td>\n      <td>Rob Reiner</td>\n      <td>Adventure</td>\n      <td>52287414</td>\n      <td>Stand by Me</td>\n      <td>R</td>\n      <td>1986-08-22</td>\n      <td>89</td>\n      <td>8.1</td>\n      <td>Wil Wheaton</td>\n      <td>299174</td>\n      <td>Stephen King</td>\n      <td>1986</td>\n      <td>1986</td>\n    </tr>\n    <tr>\n      <th>1</th>\n      <td>6000000</td>\n      <td>Paramount Pictures</td>\n      <td>USA</td>\n      <td>John Hughes</td>\n      <td>Comedy</td>\n      <td>70136369</td>\n      <td>Ferris Bueller's Day Off</td>\n      <td>PG-13</td>\n      <td>1986-06-11</td>\n      <td>103</td>\n      <td>7.8</td>\n      <td>Matthew Broderick</td>\n      <td>264740</td>\n      <td>John Hughes</td>\n      <td>1986</td>\n      <td>1986</td>\n    </tr>\n    <tr>\n      <th>2</th>\n      <td>15000000</td>\n      <td>Paramount Pictures</td>\n      <td>USA</td>\n      <td>Tony Scott</td>\n      <td>Action</td>\n      <td>179800601</td>\n      <td>Top Gun</td>\n      <td>PG</td>\n      <td>1986-05-16</td>\n      <td>110</td>\n      <td>6.9</td>\n      <td>Tom Cruise</td>\n      <td>236909</td>\n      <td>Jim Cash</td>\n      <td>1986</td>\n      <td>1986</td>\n    </tr>\n    <tr>\n      <th>3</th>\n      <td>18500000</td>\n      <td>Twentieth Century Fox Film Corporation</td>\n      <td>USA</td>\n      <td>James Cameron</td>\n      <td>Action</td>\n      <td>85160248</td>\n      <td>Aliens</td>\n      <td>R</td>\n      <td>1986-07-18</td>\n      <td>137</td>\n      <td>8.4</td>\n      <td>Sigourney Weaver</td>\n      <td>540152</td>\n      <td>James Cameron</td>\n      <td>1986</td>\n      <td>1986</td>\n    </tr>\n    <tr>\n      <th>4</th>\n      <td>9000000</td>\n      <td>Walt Disney Pictures</td>\n      <td>USA</td>\n      <td>Randal Kleiser</td>\n      <td>Adventure</td>\n      <td>18564613</td>\n      <td>Flight of the Navigator</td>\n      <td>PG</td>\n      <td>1986-08-01</td>\n      <td>90</td>\n      <td>6.9</td>\n      <td>Joey Cramer</td>\n      <td>36636</td>\n      <td>Mark H. Baker</td>\n      <td>1986</td>\n      <td>1986</td>\n    </tr>\n    <tr>\n      <th>...</th>\n      <td>...</td>\n      <td>...</td>\n      <td>...</td>\n      <td>...</td>\n      <td>...</td>\n      <td>...</td>\n      <td>...</td>\n      <td>...</td>\n      <td>...</td>\n      <td>...</td>\n      <td>...</td>\n      <td>...</td>\n      <td>...</td>\n      <td>...</td>\n      <td>...</td>\n      <td>...</td>\n    </tr>\n    <tr>\n      <th>6815</th>\n      <td>0</td>\n      <td>Fox Searchlight Pictures</td>\n      <td>UK</td>\n      <td>Mandie Fletcher</td>\n      <td>Comedy</td>\n      <td>4750497</td>\n      <td>Absolutely Fabulous: The Movie</td>\n      <td>R</td>\n      <td>2016-07-22</td>\n      <td>91</td>\n      <td>5.4</td>\n      <td>Jennifer Saunders</td>\n      <td>9161</td>\n      <td>Jennifer Saunders</td>\n      <td>2016</td>\n      <td>2016</td>\n    </tr>\n    <tr>\n      <th>6816</th>\n      <td>0</td>\n      <td>Siempre Viva Productions</td>\n      <td>USA</td>\n      <td>Paul Duddridge</td>\n      <td>Drama</td>\n      <td>28368</td>\n      <td>Mothers and Daughters</td>\n      <td>PG-13</td>\n      <td>2016-05-06</td>\n      <td>90</td>\n      <td>4.9</td>\n      <td>Selma Blair</td>\n      <td>1959</td>\n      <td>Paige Cameron</td>\n      <td>2016</td>\n      <td>2016</td>\n    </tr>\n    <tr>\n      <th>6817</th>\n      <td>3500000</td>\n      <td>Warner Bros. Animation</td>\n      <td>USA</td>\n      <td>Sam Liu</td>\n      <td>Animation</td>\n      <td>3775000</td>\n      <td>Batman: The Killing Joke</td>\n      <td>R</td>\n      <td>2016-07-25</td>\n      <td>76</td>\n      <td>6.5</td>\n      <td>Kevin Conroy</td>\n      <td>36333</td>\n      <td>Brian Azzarello</td>\n      <td>2016</td>\n      <td>2016</td>\n    </tr>\n    <tr>\n      <th>6818</th>\n      <td>0</td>\n      <td>Borderline Presents</td>\n      <td>USA</td>\n      <td>Nicolas Pesce</td>\n      <td>Drama</td>\n      <td>25981</td>\n      <td>The Eyes of My Mother</td>\n      <td>R</td>\n      <td>2016-12-02</td>\n      <td>76</td>\n      <td>6.2</td>\n      <td>Kika Magalh�es</td>\n      <td>6947</td>\n      <td>Nicolas Pesce</td>\n      <td>2016</td>\n      <td>2016</td>\n    </tr>\n    <tr>\n      <th>6819</th>\n      <td>0</td>\n      <td>Les Productions du Tr�sor</td>\n      <td>France</td>\n      <td>Nicole Garcia</td>\n      <td>Drama</td>\n      <td>37757</td>\n      <td>From the Land of the Moon</td>\n      <td>R</td>\n      <td>2017-07-28</td>\n      <td>120</td>\n      <td>6.7</td>\n      <td>Marion Cotillard</td>\n      <td>2411</td>\n      <td>Milena Agus</td>\n      <td>2016</td>\n      <td>2017</td>\n    </tr>\n  </tbody>\n</table>\n<p>6820 rows × 16 columns</p>\n</div>"
     },
     "metadata": {},
     "execution_count": 34
    }
   ],
   "source": [
    " # Create New updated Year column\n",
    "df['yearcorrect'] = df['released'].astype(str).str[0:4]\n",
    "df\n"
   ]
  },
  {
   "cell_type": "code",
   "execution_count": 35,
   "metadata": {},
   "outputs": [
    {
     "output_type": "execute_result",
     "data": {
      "text/plain": [
       "         budget                                 company country  \\\n",
       "6380  245000000                               Lucasfilm     USA   \n",
       "5061  237000000  Twentieth Century Fox Film Corporation      UK   \n",
       "2420  200000000  Twentieth Century Fox Film Corporation     USA   \n",
       "6391  150000000                      Universal Pictures     USA   \n",
       "5723  220000000                          Marvel Studios     USA   \n",
       "...         ...                                     ...     ...   \n",
       "5917          0           Zentropa International Norway  Norway   \n",
       "5699          0                        Isle of Man Film      UK   \n",
       "6066          0                           Cinetel Films     USA   \n",
       "2594   15000000                                Daybreak     USA   \n",
       "6784          0                           Magic Lantern   Spain   \n",
       "\n",
       "              director   genre      gross                          name  \\\n",
       "6380       J.J. Abrams  Action  936662225  Star Wars: The Force Awakens   \n",
       "5061     James Cameron  Action  760507625                        Avatar   \n",
       "2420     James Cameron   Drama  658672302                       Titanic   \n",
       "6391   Colin Trevorrow  Action  652270625                Jurassic World   \n",
       "5723       Joss Whedon  Action  623357910                  The Avengers   \n",
       "...                ...     ...        ...                           ...   \n",
       "5917       Petter N�ss  Action        547                Into the White   \n",
       "5699    Sheree Folkson  Comedy        542               The Decoy Bride   \n",
       "6066  Steven R. Monroe   Crime        441        I Spit on Your Grave 2   \n",
       "2594      George Huang  Comedy        309                    Trojan War   \n",
       "6784    Carles Torrens  Horror         70                           Pet   \n",
       "\n",
       "     rating    released  runtime  score               star    votes  \\\n",
       "6380  PG-13  2015-12-18      136    8.1       Daisy Ridley   687192   \n",
       "5061  PG-13  2009-12-18      162    7.8    Sam Worthington   954412   \n",
       "2420  PG-13  1997-12-19      194    7.8  Leonardo DiCaprio   862554   \n",
       "6391  PG-13  2015-06-12      124    7.0        Chris Pratt   469200   \n",
       "5723  PG-13  2012-05-04      143    8.1  Robert Downey Jr.  1064633   \n",
       "...     ...         ...      ...    ...                ...      ...   \n",
       "5917      R  2013-04-12      104    7.2      Florian Lukas    16609   \n",
       "5699     PG  2012-03-09       89    6.2    Kelly Macdonald     9018   \n",
       "6066      R  2014-01-19      106    5.7    Jemma Dallender    21070   \n",
       "2594  PG-13  1997-10-01       84    5.7       Will Friedle     5034   \n",
       "6784      R  2016-12-02       94    5.7   Dominic Monaghan    10504   \n",
       "\n",
       "               writer  year yearcorrect  \n",
       "6380  Lawrence Kasdan  2015        2015  \n",
       "5061    James Cameron  2009        2009  \n",
       "2420    James Cameron  1997        1997  \n",
       "6391       Rick Jaffa  2015        2015  \n",
       "5723      Joss Whedon  2012        2012  \n",
       "...               ...   ...         ...  \n",
       "5917    Ole Meldgaard  2012        2013  \n",
       "5699    Neil Jaworski  2011        2012  \n",
       "6066       Neil Elman  2013        2014  \n",
       "2594        Andy Burg  1997        1997  \n",
       "6784    Jeremy Slater  2016        2016  \n",
       "\n",
       "[6820 rows x 16 columns]"
      ],
      "text/html": "<div>\n<style scoped>\n    .dataframe tbody tr th:only-of-type {\n        vertical-align: middle;\n    }\n\n    .dataframe tbody tr th {\n        vertical-align: top;\n    }\n\n    .dataframe thead th {\n        text-align: right;\n    }\n</style>\n<table border=\"1\" class=\"dataframe\">\n  <thead>\n    <tr style=\"text-align: right;\">\n      <th></th>\n      <th>budget</th>\n      <th>company</th>\n      <th>country</th>\n      <th>director</th>\n      <th>genre</th>\n      <th>gross</th>\n      <th>name</th>\n      <th>rating</th>\n      <th>released</th>\n      <th>runtime</th>\n      <th>score</th>\n      <th>star</th>\n      <th>votes</th>\n      <th>writer</th>\n      <th>year</th>\n      <th>yearcorrect</th>\n    </tr>\n  </thead>\n  <tbody>\n    <tr>\n      <th>6380</th>\n      <td>245000000</td>\n      <td>Lucasfilm</td>\n      <td>USA</td>\n      <td>J.J. Abrams</td>\n      <td>Action</td>\n      <td>936662225</td>\n      <td>Star Wars: The Force Awakens</td>\n      <td>PG-13</td>\n      <td>2015-12-18</td>\n      <td>136</td>\n      <td>8.1</td>\n      <td>Daisy Ridley</td>\n      <td>687192</td>\n      <td>Lawrence Kasdan</td>\n      <td>2015</td>\n      <td>2015</td>\n    </tr>\n    <tr>\n      <th>5061</th>\n      <td>237000000</td>\n      <td>Twentieth Century Fox Film Corporation</td>\n      <td>UK</td>\n      <td>James Cameron</td>\n      <td>Action</td>\n      <td>760507625</td>\n      <td>Avatar</td>\n      <td>PG-13</td>\n      <td>2009-12-18</td>\n      <td>162</td>\n      <td>7.8</td>\n      <td>Sam Worthington</td>\n      <td>954412</td>\n      <td>James Cameron</td>\n      <td>2009</td>\n      <td>2009</td>\n    </tr>\n    <tr>\n      <th>2420</th>\n      <td>200000000</td>\n      <td>Twentieth Century Fox Film Corporation</td>\n      <td>USA</td>\n      <td>James Cameron</td>\n      <td>Drama</td>\n      <td>658672302</td>\n      <td>Titanic</td>\n      <td>PG-13</td>\n      <td>1997-12-19</td>\n      <td>194</td>\n      <td>7.8</td>\n      <td>Leonardo DiCaprio</td>\n      <td>862554</td>\n      <td>James Cameron</td>\n      <td>1997</td>\n      <td>1997</td>\n    </tr>\n    <tr>\n      <th>6391</th>\n      <td>150000000</td>\n      <td>Universal Pictures</td>\n      <td>USA</td>\n      <td>Colin Trevorrow</td>\n      <td>Action</td>\n      <td>652270625</td>\n      <td>Jurassic World</td>\n      <td>PG-13</td>\n      <td>2015-06-12</td>\n      <td>124</td>\n      <td>7.0</td>\n      <td>Chris Pratt</td>\n      <td>469200</td>\n      <td>Rick Jaffa</td>\n      <td>2015</td>\n      <td>2015</td>\n    </tr>\n    <tr>\n      <th>5723</th>\n      <td>220000000</td>\n      <td>Marvel Studios</td>\n      <td>USA</td>\n      <td>Joss Whedon</td>\n      <td>Action</td>\n      <td>623357910</td>\n      <td>The Avengers</td>\n      <td>PG-13</td>\n      <td>2012-05-04</td>\n      <td>143</td>\n      <td>8.1</td>\n      <td>Robert Downey Jr.</td>\n      <td>1064633</td>\n      <td>Joss Whedon</td>\n      <td>2012</td>\n      <td>2012</td>\n    </tr>\n    <tr>\n      <th>...</th>\n      <td>...</td>\n      <td>...</td>\n      <td>...</td>\n      <td>...</td>\n      <td>...</td>\n      <td>...</td>\n      <td>...</td>\n      <td>...</td>\n      <td>...</td>\n      <td>...</td>\n      <td>...</td>\n      <td>...</td>\n      <td>...</td>\n      <td>...</td>\n      <td>...</td>\n      <td>...</td>\n    </tr>\n    <tr>\n      <th>5917</th>\n      <td>0</td>\n      <td>Zentropa International Norway</td>\n      <td>Norway</td>\n      <td>Petter N�ss</td>\n      <td>Action</td>\n      <td>547</td>\n      <td>Into the White</td>\n      <td>R</td>\n      <td>2013-04-12</td>\n      <td>104</td>\n      <td>7.2</td>\n      <td>Florian Lukas</td>\n      <td>16609</td>\n      <td>Ole Meldgaard</td>\n      <td>2012</td>\n      <td>2013</td>\n    </tr>\n    <tr>\n      <th>5699</th>\n      <td>0</td>\n      <td>Isle of Man Film</td>\n      <td>UK</td>\n      <td>Sheree Folkson</td>\n      <td>Comedy</td>\n      <td>542</td>\n      <td>The Decoy Bride</td>\n      <td>PG</td>\n      <td>2012-03-09</td>\n      <td>89</td>\n      <td>6.2</td>\n      <td>Kelly Macdonald</td>\n      <td>9018</td>\n      <td>Neil Jaworski</td>\n      <td>2011</td>\n      <td>2012</td>\n    </tr>\n    <tr>\n      <th>6066</th>\n      <td>0</td>\n      <td>Cinetel Films</td>\n      <td>USA</td>\n      <td>Steven R. Monroe</td>\n      <td>Crime</td>\n      <td>441</td>\n      <td>I Spit on Your Grave 2</td>\n      <td>R</td>\n      <td>2014-01-19</td>\n      <td>106</td>\n      <td>5.7</td>\n      <td>Jemma Dallender</td>\n      <td>21070</td>\n      <td>Neil Elman</td>\n      <td>2013</td>\n      <td>2014</td>\n    </tr>\n    <tr>\n      <th>2594</th>\n      <td>15000000</td>\n      <td>Daybreak</td>\n      <td>USA</td>\n      <td>George Huang</td>\n      <td>Comedy</td>\n      <td>309</td>\n      <td>Trojan War</td>\n      <td>PG-13</td>\n      <td>1997-10-01</td>\n      <td>84</td>\n      <td>5.7</td>\n      <td>Will Friedle</td>\n      <td>5034</td>\n      <td>Andy Burg</td>\n      <td>1997</td>\n      <td>1997</td>\n    </tr>\n    <tr>\n      <th>6784</th>\n      <td>0</td>\n      <td>Magic Lantern</td>\n      <td>Spain</td>\n      <td>Carles Torrens</td>\n      <td>Horror</td>\n      <td>70</td>\n      <td>Pet</td>\n      <td>R</td>\n      <td>2016-12-02</td>\n      <td>94</td>\n      <td>5.7</td>\n      <td>Dominic Monaghan</td>\n      <td>10504</td>\n      <td>Jeremy Slater</td>\n      <td>2016</td>\n      <td>2016</td>\n    </tr>\n  </tbody>\n</table>\n<p>6820 rows × 16 columns</p>\n</div>"
     },
     "metadata": {},
     "execution_count": 35
    }
   ],
   "source": [
    " # Sort data by 'gross' amount\n",
    "df.sort_values(by=['gross'], inplace=False, ascending=False)\n"
   ]
  },
  {
   "cell_type": "code",
   "execution_count": 36,
   "metadata": {},
   "outputs": [
    {
     "output_type": "execute_result",
     "data": {
      "text/plain": [
       "         budget                                 company country  \\\n",
       "6380  245000000                               Lucasfilm     USA   \n",
       "5061  237000000  Twentieth Century Fox Film Corporation      UK   \n",
       "2420  200000000  Twentieth Century Fox Film Corporation     USA   \n",
       "6391  150000000                      Universal Pictures     USA   \n",
       "5723  220000000                          Marvel Studios     USA   \n",
       "...         ...                                     ...     ...   \n",
       "5917          0           Zentropa International Norway  Norway   \n",
       "5699          0                        Isle of Man Film      UK   \n",
       "6066          0                           Cinetel Films     USA   \n",
       "2594   15000000                                Daybreak     USA   \n",
       "6784          0                           Magic Lantern   Spain   \n",
       "\n",
       "              director   genre      gross                          name  \\\n",
       "6380       J.J. Abrams  Action  936662225  Star Wars: The Force Awakens   \n",
       "5061     James Cameron  Action  760507625                        Avatar   \n",
       "2420     James Cameron   Drama  658672302                       Titanic   \n",
       "6391   Colin Trevorrow  Action  652270625                Jurassic World   \n",
       "5723       Joss Whedon  Action  623357910                  The Avengers   \n",
       "...                ...     ...        ...                           ...   \n",
       "5917       Petter N�ss  Action        547                Into the White   \n",
       "5699    Sheree Folkson  Comedy        542               The Decoy Bride   \n",
       "6066  Steven R. Monroe   Crime        441        I Spit on Your Grave 2   \n",
       "2594      George Huang  Comedy        309                    Trojan War   \n",
       "6784    Carles Torrens  Horror         70                           Pet   \n",
       "\n",
       "     rating    released  runtime  score               star    votes  \\\n",
       "6380  PG-13  2015-12-18      136    8.1       Daisy Ridley   687192   \n",
       "5061  PG-13  2009-12-18      162    7.8    Sam Worthington   954412   \n",
       "2420  PG-13  1997-12-19      194    7.8  Leonardo DiCaprio   862554   \n",
       "6391  PG-13  2015-06-12      124    7.0        Chris Pratt   469200   \n",
       "5723  PG-13  2012-05-04      143    8.1  Robert Downey Jr.  1064633   \n",
       "...     ...         ...      ...    ...                ...      ...   \n",
       "5917      R  2013-04-12      104    7.2      Florian Lukas    16609   \n",
       "5699     PG  2012-03-09       89    6.2    Kelly Macdonald     9018   \n",
       "6066      R  2014-01-19      106    5.7    Jemma Dallender    21070   \n",
       "2594  PG-13  1997-10-01       84    5.7       Will Friedle     5034   \n",
       "6784      R  2016-12-02       94    5.7   Dominic Monaghan    10504   \n",
       "\n",
       "               writer  year yearcorrect  \n",
       "6380  Lawrence Kasdan  2015        2015  \n",
       "5061    James Cameron  2009        2009  \n",
       "2420    James Cameron  1997        1997  \n",
       "6391       Rick Jaffa  2015        2015  \n",
       "5723      Joss Whedon  2012        2012  \n",
       "...               ...   ...         ...  \n",
       "5917    Ole Meldgaard  2012        2013  \n",
       "5699    Neil Jaworski  2011        2012  \n",
       "6066       Neil Elman  2013        2014  \n",
       "2594        Andy Burg  1997        1997  \n",
       "6784    Jeremy Slater  2016        2016  \n",
       "\n",
       "[6820 rows x 16 columns]"
      ],
      "text/html": "<div>\n<style scoped>\n    .dataframe tbody tr th:only-of-type {\n        vertical-align: middle;\n    }\n\n    .dataframe tbody tr th {\n        vertical-align: top;\n    }\n\n    .dataframe thead th {\n        text-align: right;\n    }\n</style>\n<table border=\"1\" class=\"dataframe\">\n  <thead>\n    <tr style=\"text-align: right;\">\n      <th></th>\n      <th>budget</th>\n      <th>company</th>\n      <th>country</th>\n      <th>director</th>\n      <th>genre</th>\n      <th>gross</th>\n      <th>name</th>\n      <th>rating</th>\n      <th>released</th>\n      <th>runtime</th>\n      <th>score</th>\n      <th>star</th>\n      <th>votes</th>\n      <th>writer</th>\n      <th>year</th>\n      <th>yearcorrect</th>\n    </tr>\n  </thead>\n  <tbody>\n    <tr>\n      <th>6380</th>\n      <td>245000000</td>\n      <td>Lucasfilm</td>\n      <td>USA</td>\n      <td>J.J. Abrams</td>\n      <td>Action</td>\n      <td>936662225</td>\n      <td>Star Wars: The Force Awakens</td>\n      <td>PG-13</td>\n      <td>2015-12-18</td>\n      <td>136</td>\n      <td>8.1</td>\n      <td>Daisy Ridley</td>\n      <td>687192</td>\n      <td>Lawrence Kasdan</td>\n      <td>2015</td>\n      <td>2015</td>\n    </tr>\n    <tr>\n      <th>5061</th>\n      <td>237000000</td>\n      <td>Twentieth Century Fox Film Corporation</td>\n      <td>UK</td>\n      <td>James Cameron</td>\n      <td>Action</td>\n      <td>760507625</td>\n      <td>Avatar</td>\n      <td>PG-13</td>\n      <td>2009-12-18</td>\n      <td>162</td>\n      <td>7.8</td>\n      <td>Sam Worthington</td>\n      <td>954412</td>\n      <td>James Cameron</td>\n      <td>2009</td>\n      <td>2009</td>\n    </tr>\n    <tr>\n      <th>2420</th>\n      <td>200000000</td>\n      <td>Twentieth Century Fox Film Corporation</td>\n      <td>USA</td>\n      <td>James Cameron</td>\n      <td>Drama</td>\n      <td>658672302</td>\n      <td>Titanic</td>\n      <td>PG-13</td>\n      <td>1997-12-19</td>\n      <td>194</td>\n      <td>7.8</td>\n      <td>Leonardo DiCaprio</td>\n      <td>862554</td>\n      <td>James Cameron</td>\n      <td>1997</td>\n      <td>1997</td>\n    </tr>\n    <tr>\n      <th>6391</th>\n      <td>150000000</td>\n      <td>Universal Pictures</td>\n      <td>USA</td>\n      <td>Colin Trevorrow</td>\n      <td>Action</td>\n      <td>652270625</td>\n      <td>Jurassic World</td>\n      <td>PG-13</td>\n      <td>2015-06-12</td>\n      <td>124</td>\n      <td>7.0</td>\n      <td>Chris Pratt</td>\n      <td>469200</td>\n      <td>Rick Jaffa</td>\n      <td>2015</td>\n      <td>2015</td>\n    </tr>\n    <tr>\n      <th>5723</th>\n      <td>220000000</td>\n      <td>Marvel Studios</td>\n      <td>USA</td>\n      <td>Joss Whedon</td>\n      <td>Action</td>\n      <td>623357910</td>\n      <td>The Avengers</td>\n      <td>PG-13</td>\n      <td>2012-05-04</td>\n      <td>143</td>\n      <td>8.1</td>\n      <td>Robert Downey Jr.</td>\n      <td>1064633</td>\n      <td>Joss Whedon</td>\n      <td>2012</td>\n      <td>2012</td>\n    </tr>\n    <tr>\n      <th>...</th>\n      <td>...</td>\n      <td>...</td>\n      <td>...</td>\n      <td>...</td>\n      <td>...</td>\n      <td>...</td>\n      <td>...</td>\n      <td>...</td>\n      <td>...</td>\n      <td>...</td>\n      <td>...</td>\n      <td>...</td>\n      <td>...</td>\n      <td>...</td>\n      <td>...</td>\n      <td>...</td>\n    </tr>\n    <tr>\n      <th>5917</th>\n      <td>0</td>\n      <td>Zentropa International Norway</td>\n      <td>Norway</td>\n      <td>Petter N�ss</td>\n      <td>Action</td>\n      <td>547</td>\n      <td>Into the White</td>\n      <td>R</td>\n      <td>2013-04-12</td>\n      <td>104</td>\n      <td>7.2</td>\n      <td>Florian Lukas</td>\n      <td>16609</td>\n      <td>Ole Meldgaard</td>\n      <td>2012</td>\n      <td>2013</td>\n    </tr>\n    <tr>\n      <th>5699</th>\n      <td>0</td>\n      <td>Isle of Man Film</td>\n      <td>UK</td>\n      <td>Sheree Folkson</td>\n      <td>Comedy</td>\n      <td>542</td>\n      <td>The Decoy Bride</td>\n      <td>PG</td>\n      <td>2012-03-09</td>\n      <td>89</td>\n      <td>6.2</td>\n      <td>Kelly Macdonald</td>\n      <td>9018</td>\n      <td>Neil Jaworski</td>\n      <td>2011</td>\n      <td>2012</td>\n    </tr>\n    <tr>\n      <th>6066</th>\n      <td>0</td>\n      <td>Cinetel Films</td>\n      <td>USA</td>\n      <td>Steven R. Monroe</td>\n      <td>Crime</td>\n      <td>441</td>\n      <td>I Spit on Your Grave 2</td>\n      <td>R</td>\n      <td>2014-01-19</td>\n      <td>106</td>\n      <td>5.7</td>\n      <td>Jemma Dallender</td>\n      <td>21070</td>\n      <td>Neil Elman</td>\n      <td>2013</td>\n      <td>2014</td>\n    </tr>\n    <tr>\n      <th>2594</th>\n      <td>15000000</td>\n      <td>Daybreak</td>\n      <td>USA</td>\n      <td>George Huang</td>\n      <td>Comedy</td>\n      <td>309</td>\n      <td>Trojan War</td>\n      <td>PG-13</td>\n      <td>1997-10-01</td>\n      <td>84</td>\n      <td>5.7</td>\n      <td>Will Friedle</td>\n      <td>5034</td>\n      <td>Andy Burg</td>\n      <td>1997</td>\n      <td>1997</td>\n    </tr>\n    <tr>\n      <th>6784</th>\n      <td>0</td>\n      <td>Magic Lantern</td>\n      <td>Spain</td>\n      <td>Carles Torrens</td>\n      <td>Horror</td>\n      <td>70</td>\n      <td>Pet</td>\n      <td>R</td>\n      <td>2016-12-02</td>\n      <td>94</td>\n      <td>5.7</td>\n      <td>Dominic Monaghan</td>\n      <td>10504</td>\n      <td>Jeremy Slater</td>\n      <td>2016</td>\n      <td>2016</td>\n    </tr>\n  </tbody>\n</table>\n<p>6820 rows × 16 columns</p>\n</div>"
     },
     "metadata": {},
     "execution_count": 36
    }
   ],
   "source": [
    "#Sort by 'gross' field\n",
    "df.sort_values(by=['gross'], inplace=False, ascending=False)\n"
   ]
  },
  {
   "cell_type": "code",
   "execution_count": 37,
   "metadata": {},
   "outputs": [],
   "source": [
    " # jupyter extension doesn't like this command it makes it practically crash!\n",
    " #\n",
    " # <<<>>>   It's excessively slow ! <<<>>>\n",
    " #\n",
    "#pd.set_option('display.max_rows', None)\n"
   ]
  },
  {
   "cell_type": "code",
   "execution_count": 44,
   "metadata": {},
   "outputs": [
    {
     "output_type": "execute_result",
     "data": {
      "text/plain": [
       "5288                        micro_scope\n",
       "3486                           i5 Films\n",
       "6084                               erbp\n",
       "3225                     double A Films\n",
       "2707        Zucker Brothers Productions\n",
       "                     ...               \n",
       "3527                          120 Films\n",
       "5466              10th Hole Productions\n",
       "2815                 101st Street Films\n",
       "3208                 1+2 Seisaku Iinkai\n",
       "3832    \"DIA\" Productions GmbH & Co. KG\n",
       "Name: company, Length: 2179, dtype: object"
      ]
     },
     "metadata": {},
     "execution_count": 44
    }
   ],
   "source": [
    " # drop any duplicates\n",
    "#df['company'].sort_values(ascending=True)\n",
    "df['company'].drop_duplicates().sort_values(ascending=False)\n"
   ]
  },
  {
   "cell_type": "code",
   "execution_count": null,
   "metadata": {},
   "outputs": [],
   "source": []
  }
 ],
 "metadata": {
  "kernelspec": {
   "display_name": "Python 3",
   "language": "python",
   "name": "python3"
  },
  "language_info": {
   "codemirror_mode": {
    "name": "ipython",
    "version": 3
   },
   "file_extension": ".py",
   "mimetype": "text/x-python",
   "name": "python",
   "nbconvert_exporter": "python",
   "pygments_lexer": "ipython3",
   "version": "3.8.8"
  }
 },
 "nbformat": 4,
 "nbformat_minor": 5
}